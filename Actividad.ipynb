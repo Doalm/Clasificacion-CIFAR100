{
 "cells": [
  {
   "cell_type": "markdown",
   "id": "51c1286c",
   "metadata": {},
   "source": [
    "Importar librerías necesarias\n"
   ]
  },
  {
   "cell_type": "code",
   "execution_count": 1,
   "id": "4564ea99",
   "metadata": {},
   "outputs": [],
   "source": [
    "# 1. Importar librerías necesarias\n",
    "import torch\n",
    "from torch import nn\n",
    "from torch.utils.data import Dataset, DataLoader\n",
    "import matplotlib.pyplot as plt\n",
    "from datasets import load_dataset\n",
    "from torchvision import transforms\n",
    "import numpy as np\n",
    "import random\n",
    "from tqdm import tqdm\n",
    "\n",
    "# Fijar semilla para reproducibilidad\n",
    "def set_seed(seed=42):\n",
    "    torch.manual_seed(seed)\n",
    "    np.random.seed(seed)\n",
    "    random.seed(seed)\n",
    "    if torch.cuda.is_available():\n",
    "        torch.cuda.manual_seed_all(seed)\n",
    "set_seed(42)"
   ]
  },
  {
   "cell_type": "markdown",
   "id": "3b5d580f",
   "metadata": {},
   "source": [
    "Descargar y explorar el dataset CIFAR-100 de Hugging Face"
   ]
  },
  {
   "cell_type": "code",
   "execution_count": 2,
   "id": "6d0988e9",
   "metadata": {},
   "outputs": [
    {
     "name": "stderr",
     "output_type": "stream",
     "text": [
      "Using the latest cached version of the dataset since uoft-cs/cifar100 couldn't be found on the Hugging Face Hub\n",
      "Found the latest cached dataset configuration 'cifar100' at C:\\Users\\david\\.cache\\huggingface\\datasets\\uoft-cs___cifar100\\cifar100\\0.0.0\\aadb3af77e9048adbea6b47c21a81e47dd092ae5 (last modified on Sun Jun  8 14:39:19 2025).\n",
      "Found the latest cached dataset configuration 'cifar100' at C:\\Users\\david\\.cache\\huggingface\\datasets\\uoft-cs___cifar100\\cifar100\\0.0.0\\aadb3af77e9048adbea6b47c21a81e47dd092ae5 (last modified on Sun Jun  8 14:39:19 2025).\n",
      "C:\\Program Files\\WindowsApps\\PythonSoftwareFoundation.Python.3.11_3.11.2544.0_x64__qbz5n2kfra8p0\\Lib\\importlib\\__init__.py:126: UserWarning: A NumPy version >=1.23.5 and <2.3.0 is required for this version of SciPy (detected version 2.3.0)\n",
      "  return _bootstrap._gcd_import(name[level:], package, level)\n",
      "C:\\Program Files\\WindowsApps\\PythonSoftwareFoundation.Python.3.11_3.11.2544.0_x64__qbz5n2kfra8p0\\Lib\\importlib\\__init__.py:126: UserWarning: A NumPy version >=1.23.5 and <2.3.0 is required for this version of SciPy (detected version 2.3.0)\n",
      "  return _bootstrap._gcd_import(name[level:], package, level)\n"
     ]
    },
    {
     "name": "stdout",
     "output_type": "stream",
     "text": [
      "DatasetDict({\n",
      "    train: Dataset({\n",
      "        features: ['img', 'fine_label', 'coarse_label'],\n",
      "        num_rows: 50000\n",
      "    })\n",
      "    test: Dataset({\n",
      "        features: ['img', 'fine_label', 'coarse_label'],\n",
      "        num_rows: 10000\n",
      "    })\n",
      "})\n"
     ]
    }
   ],
   "source": [
    "# 2. Descargar y explorar el dataset CIFAR-100 de Hugging Face\n",
    "dataset = load_dataset(\"uoft-cs/cifar100\")\n",
    "print(dataset)  # Mostrar las llaves y tamaños de los splits"
   ]
  },
  {
   "cell_type": "markdown",
   "id": "62a4c4c7",
   "metadata": {},
   "source": [
    " Visualizar algunas imágenes de ejemplo"
   ]
  },
  {
   "cell_type": "code",
   "execution_count": 3,
   "id": "d2a31395",
   "metadata": {},
   "outputs": [
    {
     "data": {
      "image/png": "[encoded data removed]",
      "text/plain": [
       "<Figure size 1200x300 with 5 Axes>"
      ]
     },
     "metadata": {},
     "output_type": "display_data"
    }
   ],
   "source": [
    "# 3. Visualizar algunas imágenes de ejemplo\n",
    "fig, axs = plt.subplots(1, 5, figsize=(12, 3))\n",
    "for i in range(5):\n",
    "    img = dataset[\"train\"][i][\"img\"]\n",
    "    label = dataset[\"train\"][i][\"fine_label\"]\n",
    "    axs[i].imshow(img)\n",
    "    axs[i].set_title(f\"Etiqueta: {label}\")\n",
    "    axs[i].axis(\"off\")\n",
    "plt.show()"
   ]
  },
  {
   "cell_type": "markdown",
   "id": "250414d8",
   "metadata": {},
   "source": [
    "Preprocesar los datos y crear Dataset personalizado"
   ]
  },
  {
   "cell_type": "code",
   "execution_count": 4,
   "id": "b1ca2891",
   "metadata": {},
   "outputs": [],
   "source": [
    "# 4. Preprocesar los datos y crear Dataset personalizado\n",
    "from torchvision import transforms\n",
    "\n",
    "train_transform = transforms.Compose([\n",
    "    transforms.RandomHorizontalFlip(),\n",
    "    transforms.RandomCrop(32, padding=4),\n",
    "    transforms.ToTensor(),\n",
    "    transforms.Normalize((0.5, 0.5, 0.5), (0.5, 0.5, 0.5))\n",
    "])\n",
    "\n",
    "test_transform = transforms.Compose([\n",
    "    transforms.ToTensor(),\n",
    "    transforms.Normalize((0.5, 0.5, 0.5), (0.5, 0.5, 0.5))\n",
    "])\n",
    "\n",
    "class CIFAR100Dataset(Dataset):\n",
    "    def __init__(self, hf_dataset, transform=None):\n",
    "        self.dataset = hf_dataset\n",
    "        self.transform = transform\n",
    "\n",
    "    def __len__(self):\n",
    "        return len(self.dataset)\n",
    "\n",
    "    def __getitem__(self, idx):\n",
    "        img = self.dataset[idx][\"img\"]\n",
    "        label = self.dataset[idx][\"fine_label\"]\n",
    "        if self.transform:\n",
    "            img = self.transform(img)\n",
    "        return img, label\n",
    "\n",
    "train_dataset = CIFAR100Dataset(dataset[\"train\"], transform=train_transform)\n",
    "test_dataset = CIFAR100Dataset(dataset[\"test\"], transform=test_transform)\n",
    "val_dataset = CIFAR100Dataset(dataset[\"test\"], transform=test_transform)  # val_dataset con test_transform"
   ]
  },
  {
   "cell_type": "markdown",
   "id": "42c09033",
   "metadata": {},
   "source": [
    "Dividir train en train y validación (80/20)"
   ]
  },
  {
   "cell_type": "code",
   "execution_count": 5,
   "id": "cb4459e0",
   "metadata": {},
   "outputs": [
    {
     "name": "stdout",
     "output_type": "stream",
     "text": [
      "Tamaño train: 40000, validación: 10000, test: 10000\n"
     ]
    }
   ],
   "source": [
    "# 5. Dividir train en train y validación (80/20) y aplicar test_transform a validación\n",
    "train_size = int(0.8 * len(train_dataset))\n",
    "val_size = len(train_dataset) - train_size\n",
    "indices = list(range(len(train_dataset)))\n",
    "train_indices, val_indices = indices[:train_size], indices[train_size:]\n",
    "\n",
    "# Subset para train y val\n",
    "from torch.utils.data import Subset\n",
    "train_dataset_split = Subset(train_dataset, train_indices)\n",
    "val_dataset = CIFAR100Dataset(dataset[\"train\"], transform=test_transform)\n",
    "val_dataset_split = Subset(val_dataset, val_indices)\n",
    "\n",
    "print(f\"Tamaño train: {len(train_dataset_split)}, validación: {len(val_dataset_split)}, test: {len(test_dataset)}\")"
   ]
  },
  {
   "cell_type": "markdown",
   "id": "c5e4c56e",
   "metadata": {},
   "source": [
    "Definir el modelo de red neuronal"
   ]
  },
  {
   "cell_type": "code",
   "execution_count": 6,
   "id": "23c490e5",
   "metadata": {},
   "outputs": [
    {
     "name": "stdout",
     "output_type": "stream",
     "text": [
      "RedCNNMejorada(\n",
      "  (conv): Sequential(\n",
      "    (0): Conv2d(3, 64, kernel_size=(3, 3), stride=(1, 1), padding=(1, 1))\n",
      "    (1): BatchNorm2d(64, eps=1e-05, momentum=0.1, affine=True, track_running_stats=True)\n",
      "    (2): ReLU()\n",
      "    (3): Conv2d(64, 64, kernel_size=(3, 3), stride=(1, 1), padding=(1, 1))\n",
      "    (4): BatchNorm2d(64, eps=1e-05, momentum=0.1, affine=True, track_running_stats=True)\n",
      "    (5): ReLU()\n",
      "    (6): MaxPool2d(kernel_size=2, stride=2, padding=0, dilation=1, ceil_mode=False)\n",
      "    (7): Dropout(p=0.25, inplace=False)\n",
      "    (8): Conv2d(64, 128, kernel_size=(3, 3), stride=(1, 1), padding=(1, 1))\n",
      "    (9): BatchNorm2d(128, eps=1e-05, momentum=0.1, affine=True, track_running_stats=True)\n",
      "    (10): ReLU()\n",
      "    (11): Conv2d(128, 128, kernel_size=(3, 3), stride=(1, 1), padding=(1, 1))\n",
      "    (12): BatchNorm2d(128, eps=1e-05, momentum=0.1, affine=True, track_running_stats=True)\n",
      "    (13): ReLU()\n",
      "    (14): MaxPool2d(kernel_size=2, stride=2, padding=0, dilation=1, ceil_mode=False)\n",
      "    (15): Dropout(p=0.25, inplace=False)\n",
      "    (16): Conv2d(128, 256, kernel_size=(3, 3), stride=(1, 1), padding=(1, 1))\n",
      "    (17): BatchNorm2d(256, eps=1e-05, momentum=0.1, affine=True, track_running_stats=True)\n",
      "    (18): ReLU()\n",
      "    (19): MaxPool2d(kernel_size=2, stride=2, padding=0, dilation=1, ceil_mode=False)\n",
      "    (20): Dropout(p=0.25, inplace=False)\n",
      "  )\n",
      "  (fc): Sequential(\n",
      "    (0): Flatten(start_dim=1, end_dim=-1)\n",
      "    (1): Linear(in_features=4096, out_features=512, bias=True)\n",
      "    (2): ReLU()\n",
      "    (3): Dropout(p=0.5, inplace=False)\n",
      "    (4): Linear(in_features=512, out_features=100, bias=True)\n",
      "  )\n",
      ")\n"
     ]
    }
   ],
   "source": [
    "# 6. Definir un modelo de red convolucional mejorada para CIFAR-100\n",
    "class RedCNNMejorada(nn.Module):\n",
    "    def __init__(self):\n",
    "        super().__init__()\n",
    "        self.conv = nn.Sequential(\n",
    "            nn.Conv2d(3, 64, kernel_size=3, padding=1),\n",
    "            nn.BatchNorm2d(64),\n",
    "            nn.ReLU(),\n",
    "            nn.Conv2d(64, 64, kernel_size=3, padding=1),\n",
    "            nn.BatchNorm2d(64),\n",
    "            nn.ReLU(),\n",
    "            nn.MaxPool2d(2),  # 16x16\n",
    "            nn.Dropout(0.25),\n",
    "\n",
    "            nn.Conv2d(64, 128, kernel_size=3, padding=1),\n",
    "            nn.BatchNorm2d(128),\n",
    "            nn.ReLU(),\n",
    "            nn.Conv2d(128, 128, kernel_size=3, padding=1),\n",
    "            nn.BatchNorm2d(128),\n",
    "            nn.ReLU(),\n",
    "            nn.MaxPool2d(2),  # 8x8\n",
    "            nn.Dropout(0.25),\n",
    "\n",
    "            nn.Conv2d(128, 256, kernel_size=3, padding=1),\n",
    "            nn.BatchNorm2d(256),\n",
    "            nn.ReLU(),\n",
    "            nn.MaxPool2d(2),  # 4x4\n",
    "            nn.Dropout(0.25)\n",
    "        )\n",
    "        self.fc = nn.Sequential(\n",
    "            nn.Flatten(),\n",
    "            nn.Linear(256 * 4 * 4, 512),\n",
    "            nn.ReLU(),\n",
    "            nn.Dropout(0.5),\n",
    "            nn.Linear(512, 100)\n",
    "        )\n",
    "\n",
    "    def forward(self, x):\n",
    "        x = self.conv(x)\n",
    "        x = self.fc(x)\n",
    "        return x\n",
    "\n",
    "device = torch.device(\"cuda\" if torch.cuda.is_available() else \"cpu\")\n",
    "modelo = RedCNNMejorada().to(device)\n",
    "print(modelo)"
   ]
  },
  {
   "cell_type": "markdown",
   "id": "25736d4f",
   "metadata": {},
   "source": [
    "Preparar DataLoaders"
   ]
  },
  {
   "cell_type": "code",
   "execution_count": 7,
   "id": "e5548cce",
   "metadata": {},
   "outputs": [],
   "source": [
    "# 7. Preparar DataLoaders\n",
    "BATCH_SIZE = 42\n",
    "train_loader = DataLoader(train_dataset_split, batch_size=BATCH_SIZE, shuffle=True)\n",
    "val_loader = DataLoader(val_dataset_split, batch_size=BATCH_SIZE, shuffle=False)\n",
    "test_loader = DataLoader(test_dataset, batch_size=BATCH_SIZE, shuffle=False)"
   ]
  },
  {
   "cell_type": "markdown",
   "id": "4fcb5333",
   "metadata": {},
   "source": [
    " Definir funciones de entrenamiento y validación"
   ]
  },
  {
   "cell_type": "code",
   "execution_count": 8,
   "id": "6287740d",
   "metadata": {},
   "outputs": [],
   "source": [
    "# 8. Definir funciones de entrenamiento y validación\n",
    "loss_fn = nn.CrossEntropyLoss()\n",
    "optimizer = torch.optim.Adam(modelo.parameters(), lr=0.001)\n",
    "\n",
    "def train_loop(dataloader, model, loss_fn, optimizer):\n",
    "    model.train()\n",
    "    total_loss, correct, total = 0, 0, 0\n",
    "    for X, y in dataloader:\n",
    "        X, y = X.to(device), y.to(device)\n",
    "        optimizer.zero_grad()\n",
    "        logits = model(X)\n",
    "        loss = loss_fn(logits, y)\n",
    "        loss.backward()\n",
    "        optimizer.step()\n",
    "        total_loss += loss.item() * X.size(0)\n",
    "        preds = logits.argmax(1)\n",
    "        correct += (preds == y).sum().item()\n",
    "        total += X.size(0)\n",
    "    avg_loss = total_loss / total\n",
    "    accuracy = correct / total\n",
    "    return avg_loss, accuracy\n",
    "\n",
    "def val_loop(dataloader, model, loss_fn):\n",
    "    model.eval()\n",
    "    total_loss, correct, total = 0, 0, 0\n",
    "    with torch.no_grad():\n",
    "        for X, y in dataloader:\n",
    "            X, y = X.to(device), y.to(device)\n",
    "            logits = model(X)\n",
    "            loss = loss_fn(logits, y)\n",
    "            total_loss += loss.item() * X.size(0)\n",
    "            preds = logits.argmax(1)\n",
    "            correct += (preds == y).sum().item()\n",
    "            total += X.size(0)\n",
    "    avg_loss = total_loss / total\n",
    "    accuracy = correct / total\n",
    "    return avg_loss, accuracy"
   ]
  },
  {
   "cell_type": "markdown",
   "id": "08f17dcc",
   "metadata": {},
   "source": [
    " Entrenar y validar el modelo"
   ]
  },
  {
   "cell_type": "code",
   "execution_count": 17,
   "id": "cc0d7125",
   "metadata": {},
   "outputs": [
    {
     "name": "stdout",
     "output_type": "stream",
     "text": [
      "\n",
      "Época 1/40\n"
     ]
    },
    {
     "name": "stderr",
     "output_type": "stream",
     "text": [
      "                                                                  "
     ]
    },
    {
     "name": "stdout",
     "output_type": "stream",
     "text": [
      "  Entrenamiento -> Pérdida: 2.7039, Exactitud: 30.36%\n",
      "  Validación    -> Pérdida: 2.1670, Exactitud: 41.88%\n",
      "  Mejor modelo guardado.\n",
      "\n",
      "Época 2/40\n"
     ]
    },
    {
     "name": "stderr",
     "output_type": "stream",
     "text": [
      "                                                                  "
     ]
    },
    {
     "name": "stdout",
     "output_type": "stream",
     "text": [
      "  Entrenamiento -> Pérdida: 2.5112, Exactitud: 34.65%\n",
      "  Validación    -> Pérdida: 2.0529, Exactitud: 45.08%\n",
      "  Mejor modelo guardado.\n",
      "\n",
      "Época 3/40\n"
     ]
    },
    {
     "name": "stderr",
     "output_type": "stream",
     "text": [
      "                                                                  "
     ]
    },
    {
     "name": "stdout",
     "output_type": "stream",
     "text": [
      "  Entrenamiento -> Pérdida: 2.3914, Exactitud: 37.29%\n",
      "  Validación    -> Pérdida: 1.9459, Exactitud: 47.36%\n",
      "  Mejor modelo guardado.\n",
      "\n",
      "Época 4/40\n"
     ]
    },
    {
     "name": "stderr",
     "output_type": "stream",
     "text": [
      "                                                                   "
     ]
    },
    {
     "name": "stdout",
     "output_type": "stream",
     "text": [
      "  Entrenamiento -> Pérdida: 2.3161, Exactitud: 39.00%\n",
      "  Validación    -> Pérdida: 1.9515, Exactitud: 47.54%\n",
      "  Sin mejora en validación. Paciencia: 1/5\n",
      "\n",
      "Época 5/40\n"
     ]
    },
    {
     "name": "stderr",
     "output_type": "stream",
     "text": [
      "                                                                  "
     ]
    },
    {
     "name": "stdout",
     "output_type": "stream",
     "text": [
      "  Entrenamiento -> Pérdida: 2.2640, Exactitud: 39.94%\n",
      "  Validación    -> Pérdida: 1.8634, Exactitud: 48.92%\n",
      "  Mejor modelo guardado.\n",
      "\n",
      "Época 6/40\n"
     ]
    },
    {
     "name": "stderr",
     "output_type": "stream",
     "text": [
      "                                                                  "
     ]
    },
    {
     "name": "stdout",
     "output_type": "stream",
     "text": [
      "  Entrenamiento -> Pérdida: 2.2128, Exactitud: 41.27%\n",
      "  Validación    -> Pérdida: 1.8173, Exactitud: 50.73%\n",
      "  Mejor modelo guardado.\n",
      "\n",
      "Época 7/40\n"
     ]
    },
    {
     "name": "stderr",
     "output_type": "stream",
     "text": [
      "                                                                  "
     ]
    },
    {
     "name": "stdout",
     "output_type": "stream",
     "text": [
      "  Entrenamiento -> Pérdida: 2.1668, Exactitud: 42.35%\n",
      "  Validación    -> Pérdida: 1.7408, Exactitud: 51.98%\n",
      "  Mejor modelo guardado.\n",
      "\n",
      "Época 8/40\n"
     ]
    },
    {
     "name": "stderr",
     "output_type": "stream",
     "text": [
      "                                                                  "
     ]
    },
    {
     "name": "stdout",
     "output_type": "stream",
     "text": [
      "  Entrenamiento -> Pérdida: 2.1370, Exactitud: 42.82%\n",
      "  Validación    -> Pérdida: 1.7309, Exactitud: 52.35%\n",
      "  Mejor modelo guardado.\n",
      "\n",
      "Época 9/40\n"
     ]
    },
    {
     "name": "stderr",
     "output_type": "stream",
     "text": [
      "                                                                  "
     ]
    },
    {
     "name": "stdout",
     "output_type": "stream",
     "text": [
      "  Entrenamiento -> Pérdida: 2.1084, Exactitud: 43.76%\n",
      "  Validación    -> Pérdida: 1.7092, Exactitud: 53.34%\n",
      "  Mejor modelo guardado.\n",
      "\n",
      "Época 10/40\n"
     ]
    },
    {
     "name": "stderr",
     "output_type": "stream",
     "text": [
      "                                                                  "
     ]
    },
    {
     "name": "stdout",
     "output_type": "stream",
     "text": [
      "  Entrenamiento -> Pérdida: 2.0756, Exactitud: 44.34%\n",
      "  Validación    -> Pérdida: 1.7156, Exactitud: 53.63%\n",
      "  Sin mejora en validación. Paciencia: 1/5\n",
      "\n",
      "Época 11/40\n"
     ]
    },
    {
     "name": "stderr",
     "output_type": "stream",
     "text": [
      "                                                                   "
     ]
    },
    {
     "name": "stdout",
     "output_type": "stream",
     "text": [
      "  Entrenamiento -> Pérdida: 2.0512, Exactitud: 44.66%\n",
      "  Validación    -> Pérdida: 1.6973, Exactitud: 53.63%\n",
      "  Mejor modelo guardado.\n",
      "\n",
      "Época 12/40\n"
     ]
    },
    {
     "name": "stderr",
     "output_type": "stream",
     "text": [
      "                                                                  "
     ]
    },
    {
     "name": "stdout",
     "output_type": "stream",
     "text": [
      "  Entrenamiento -> Pérdida: 2.0258, Exactitud: 45.23%\n",
      "  Validación    -> Pérdida: 1.6522, Exactitud: 54.68%\n",
      "  Mejor modelo guardado.\n",
      "\n",
      "Época 13/40\n"
     ]
    },
    {
     "name": "stderr",
     "output_type": "stream",
     "text": [
      "                                                                  "
     ]
    },
    {
     "name": "stdout",
     "output_type": "stream",
     "text": [
      "  Entrenamiento -> Pérdida: 2.0150, Exactitud: 45.88%\n",
      "  Validación    -> Pérdida: 1.6425, Exactitud: 54.69%\n",
      "  Mejor modelo guardado.\n",
      "\n",
      "Época 14/40\n"
     ]
    },
    {
     "name": "stderr",
     "output_type": "stream",
     "text": [
      "                                                                  "
     ]
    },
    {
     "name": "stdout",
     "output_type": "stream",
     "text": [
      "  Entrenamiento -> Pérdida: 1.9954, Exactitud: 45.85%\n",
      "  Validación    -> Pérdida: 1.6334, Exactitud: 54.91%\n",
      "  Mejor modelo guardado.\n",
      "\n",
      "Época 15/40\n"
     ]
    },
    {
     "name": "stderr",
     "output_type": "stream",
     "text": [
      "                                                                  "
     ]
    },
    {
     "name": "stdout",
     "output_type": "stream",
     "text": [
      "  Entrenamiento -> Pérdida: 1.9596, Exactitud: 46.84%\n",
      "  Validación    -> Pérdida: 1.6625, Exactitud: 54.56%\n",
      "  Sin mejora en validación. Paciencia: 1/5\n",
      "\n",
      "Época 16/40\n"
     ]
    },
    {
     "name": "stderr",
     "output_type": "stream",
     "text": [
      "                                                                  "
     ]
    },
    {
     "name": "stdout",
     "output_type": "stream",
     "text": [
      "  Entrenamiento -> Pérdida: 1.9630, Exactitud: 47.30%\n",
      "  Validación    -> Pérdida: 1.5999, Exactitud: 56.09%\n",
      "  Mejor modelo guardado.\n",
      "\n",
      "Época 17/40\n"
     ]
    },
    {
     "name": "stderr",
     "output_type": "stream",
     "text": [
      "                                                                  "
     ]
    },
    {
     "name": "stdout",
     "output_type": "stream",
     "text": [
      "  Entrenamiento -> Pérdida: 1.9424, Exactitud: 47.53%\n",
      "  Validación    -> Pérdida: 1.6349, Exactitud: 55.30%\n",
      "  Sin mejora en validación. Paciencia: 1/5\n",
      "\n",
      "Época 18/40\n"
     ]
    },
    {
     "name": "stderr",
     "output_type": "stream",
     "text": [
      "                                                                  "
     ]
    },
    {
     "name": "stdout",
     "output_type": "stream",
     "text": [
      "  Entrenamiento -> Pérdida: 1.9149, Exactitud: 48.21%\n",
      "  Validación    -> Pérdida: 1.6022, Exactitud: 55.99%\n",
      "  Sin mejora en validación. Paciencia: 2/5\n",
      "\n",
      "Época 19/40\n"
     ]
    },
    {
     "name": "stderr",
     "output_type": "stream",
     "text": [
      "                                                                  "
     ]
    },
    {
     "name": "stdout",
     "output_type": "stream",
     "text": [
      "  Entrenamiento -> Pérdida: 1.9111, Exactitud: 48.13%\n",
      "  Validación    -> Pérdida: 1.5516, Exactitud: 56.62%\n",
      "  Mejor modelo guardado.\n",
      "\n",
      "Época 20/40\n"
     ]
    },
    {
     "name": "stderr",
     "output_type": "stream",
     "text": [
      "                                                                  "
     ]
    },
    {
     "name": "stdout",
     "output_type": "stream",
     "text": [
      "  Entrenamiento -> Pérdida: 1.8998, Exactitud: 48.61%\n",
      "  Validación    -> Pérdida: 1.5822, Exactitud: 56.21%\n",
      "  Sin mejora en validación. Paciencia: 1/5\n",
      "\n",
      "Época 21/40\n"
     ]
    },
    {
     "name": "stderr",
     "output_type": "stream",
     "text": [
      "                                                                  "
     ]
    },
    {
     "name": "stdout",
     "output_type": "stream",
     "text": [
      "  Entrenamiento -> Pérdida: 1.8792, Exactitud: 48.95%\n",
      "  Validación    -> Pérdida: 1.5658, Exactitud: 56.81%\n",
      "  Sin mejora en validación. Paciencia: 2/5\n",
      "\n",
      "Época 22/40\n"
     ]
    },
    {
     "name": "stderr",
     "output_type": "stream",
     "text": [
      "                                                                  "
     ]
    },
    {
     "name": "stdout",
     "output_type": "stream",
     "text": [
      "  Entrenamiento -> Pérdida: 1.8662, Exactitud: 49.30%\n",
      "  Validación    -> Pérdida: 1.5442, Exactitud: 57.16%\n",
      "  Mejor modelo guardado.\n",
      "\n",
      "Época 23/40\n"
     ]
    },
    {
     "name": "stderr",
     "output_type": "stream",
     "text": [
      "                                                                  "
     ]
    },
    {
     "name": "stdout",
     "output_type": "stream",
     "text": [
      "  Entrenamiento -> Pérdida: 1.8551, Exactitud: 49.44%\n",
      "  Validación    -> Pérdida: 1.5313, Exactitud: 57.59%\n",
      "  Mejor modelo guardado.\n",
      "\n",
      "Época 24/40\n"
     ]
    },
    {
     "name": "stderr",
     "output_type": "stream",
     "text": [
      "                                                                  "
     ]
    },
    {
     "name": "stdout",
     "output_type": "stream",
     "text": [
      "  Entrenamiento -> Pérdida: 1.8554, Exactitud: 49.40%\n",
      "  Validación    -> Pérdida: 1.5397, Exactitud: 58.03%\n",
      "  Sin mejora en validación. Paciencia: 1/5\n",
      "\n",
      "Época 25/40\n"
     ]
    },
    {
     "name": "stderr",
     "output_type": "stream",
     "text": [
      "                                                                  "
     ]
    },
    {
     "name": "stdout",
     "output_type": "stream",
     "text": [
      "  Entrenamiento -> Pérdida: 1.8471, Exactitud: 49.85%\n",
      "  Validación    -> Pérdida: 1.6009, Exactitud: 55.76%\n",
      "  Sin mejora en validación. Paciencia: 2/5\n",
      "\n",
      "Época 26/40\n"
     ]
    },
    {
     "name": "stderr",
     "output_type": "stream",
     "text": [
      "                                                                  "
     ]
    },
    {
     "name": "stdout",
     "output_type": "stream",
     "text": [
      "  Entrenamiento -> Pérdida: 1.8368, Exactitud: 50.07%\n",
      "  Validación    -> Pérdida: 1.5167, Exactitud: 58.18%\n",
      "  Mejor modelo guardado.\n",
      "\n",
      "Época 27/40\n"
     ]
    },
    {
     "name": "stderr",
     "output_type": "stream",
     "text": [
      "                                                                  "
     ]
    },
    {
     "name": "stdout",
     "output_type": "stream",
     "text": [
      "  Entrenamiento -> Pérdida: 1.8320, Exactitud: 50.12%\n",
      "  Validación    -> Pérdida: 1.5422, Exactitud: 57.53%\n",
      "  Sin mejora en validación. Paciencia: 1/5\n",
      "\n",
      "Época 28/40\n"
     ]
    },
    {
     "name": "stderr",
     "output_type": "stream",
     "text": [
      "                                                                  "
     ]
    },
    {
     "name": "stdout",
     "output_type": "stream",
     "text": [
      "  Entrenamiento -> Pérdida: 1.8269, Exactitud: 50.63%\n",
      "  Validación    -> Pérdida: 1.5434, Exactitud: 57.62%\n",
      "  Sin mejora en validación. Paciencia: 2/5\n",
      "\n",
      "Época 29/40\n"
     ]
    },
    {
     "name": "stderr",
     "output_type": "stream",
     "text": [
      "                                                                  "
     ]
    },
    {
     "name": "stdout",
     "output_type": "stream",
     "text": [
      "  Entrenamiento -> Pérdida: 1.8040, Exactitud: 50.98%\n",
      "  Validación    -> Pérdida: 1.5090, Exactitud: 58.43%\n",
      "  Mejor modelo guardado.\n",
      "\n",
      "Época 30/40\n"
     ]
    },
    {
     "name": "stderr",
     "output_type": "stream",
     "text": [
      "                                                                  "
     ]
    },
    {
     "name": "stdout",
     "output_type": "stream",
     "text": [
      "  Entrenamiento -> Pérdida: 1.8086, Exactitud: 50.52%\n",
      "  Validación    -> Pérdida: 1.5374, Exactitud: 57.89%\n",
      "  Sin mejora en validación. Paciencia: 1/5\n",
      "\n",
      "Época 31/40\n"
     ]
    },
    {
     "name": "stderr",
     "output_type": "stream",
     "text": [
      "                                                                  "
     ]
    },
    {
     "name": "stdout",
     "output_type": "stream",
     "text": [
      "  Entrenamiento -> Pérdida: 1.7940, Exactitud: 51.01%\n",
      "  Validación    -> Pérdida: 1.5239, Exactitud: 57.93%\n",
      "  Sin mejora en validación. Paciencia: 2/5\n",
      "\n",
      "Época 32/40\n"
     ]
    },
    {
     "name": "stderr",
     "output_type": "stream",
     "text": [
      "                                                                  "
     ]
    },
    {
     "name": "stdout",
     "output_type": "stream",
     "text": [
      "  Entrenamiento -> Pérdida: 1.7838, Exactitud: 51.31%\n",
      "  Validación    -> Pérdida: 1.5053, Exactitud: 57.89%\n",
      "  Mejor modelo guardado.\n",
      "\n",
      "Época 33/40\n"
     ]
    },
    {
     "name": "stderr",
     "output_type": "stream",
     "text": [
      "                                                                  "
     ]
    },
    {
     "name": "stdout",
     "output_type": "stream",
     "text": [
      "  Entrenamiento -> Pérdida: 1.7792, Exactitud: 51.20%\n",
      "  Validación    -> Pérdida: 1.4955, Exactitud: 58.33%\n",
      "  Mejor modelo guardado.\n",
      "\n",
      "Época 34/40\n"
     ]
    },
    {
     "name": "stderr",
     "output_type": "stream",
     "text": [
      "                                                                  "
     ]
    },
    {
     "name": "stdout",
     "output_type": "stream",
     "text": [
      "  Entrenamiento -> Pérdida: 1.7803, Exactitud: 51.33%\n",
      "  Validación    -> Pérdida: 1.4932, Exactitud: 58.79%\n",
      "  Mejor modelo guardado.\n",
      "\n",
      "Época 35/40\n"
     ]
    },
    {
     "name": "stderr",
     "output_type": "stream",
     "text": [
      "                                                                  "
     ]
    },
    {
     "name": "stdout",
     "output_type": "stream",
     "text": [
      "  Entrenamiento -> Pérdida: 1.7761, Exactitud: 51.88%\n",
      "  Validación    -> Pérdida: 1.4926, Exactitud: 58.61%\n",
      "  Mejor modelo guardado.\n",
      "\n",
      "Época 36/40\n"
     ]
    },
    {
     "name": "stderr",
     "output_type": "stream",
     "text": [
      "                                                                  "
     ]
    },
    {
     "name": "stdout",
     "output_type": "stream",
     "text": [
      "  Entrenamiento -> Pérdida: 1.7737, Exactitud: 51.72%\n",
      "  Validación    -> Pérdida: 1.4686, Exactitud: 59.00%\n",
      "  Mejor modelo guardado.\n",
      "\n",
      "Época 37/40\n"
     ]
    },
    {
     "name": "stderr",
     "output_type": "stream",
     "text": [
      "                                                                  "
     ]
    },
    {
     "name": "stdout",
     "output_type": "stream",
     "text": [
      "  Entrenamiento -> Pérdida: 1.7754, Exactitud: 51.54%\n",
      "  Validación    -> Pérdida: 1.5276, Exactitud: 58.14%\n",
      "  Sin mejora en validación. Paciencia: 1/5\n",
      "\n",
      "Época 38/40\n"
     ]
    },
    {
     "name": "stderr",
     "output_type": "stream",
     "text": [
      "                                                                  "
     ]
    },
    {
     "name": "stdout",
     "output_type": "stream",
     "text": [
      "  Entrenamiento -> Pérdida: 1.7583, Exactitud: 51.71%\n",
      "  Validación    -> Pérdida: 1.4586, Exactitud: 59.39%\n",
      "  Mejor modelo guardado.\n",
      "\n",
      "Época 39/40\n"
     ]
    },
    {
     "name": "stderr",
     "output_type": "stream",
     "text": [
      "                                                                  "
     ]
    },
    {
     "name": "stdout",
     "output_type": "stream",
     "text": [
      "  Entrenamiento -> Pérdida: 1.7507, Exactitud: 52.23%\n",
      "  Validación    -> Pérdida: 1.4700, Exactitud: 59.01%\n",
      "  Sin mejora en validación. Paciencia: 1/5\n",
      "\n",
      "Época 40/40\n"
     ]
    },
    {
     "name": "stderr",
     "output_type": "stream",
     "text": [
      "                                                                  "
     ]
    },
    {
     "name": "stdout",
     "output_type": "stream",
     "text": [
      "  Entrenamiento -> Pérdida: 1.7364, Exactitud: 52.41%\n",
      "  Validación    -> Pérdida: 1.4697, Exactitud: 59.10%\n",
      "  Sin mejora en validación. Paciencia: 2/5\n"
     ]
    }
   ],
   "source": [
    "# 9. Entrenar y validar el modelo, guardando métricas, barra de progreso, early stopping y guardado del mejor modelo\n",
    "EPOCHS = 40\n",
    "train_losses, val_losses = [], []\n",
    "train_accuracies, val_accuracies = [], []\n",
    "best_val_loss = float('inf')\n",
    "patience = 5\n",
    "patience_counter = 0\n",
    "best_model_path = 'mejor_modelo.pth'\n",
    "\n",
    "# Scheduler de learning rate (sin verbose)\n",
    "scheduler = torch.optim.lr_scheduler.ReduceLROnPlateau(optimizer, mode='min', factor=0.5, patience=2)\n",
    "\n",
    "for epoch in range(EPOCHS):\n",
    "    print(f\"\\nÉpoca {epoch+1}/{EPOCHS}\")\n",
    "    # Barra de progreso para entrenamiento\n",
    "    train_iter = tqdm(train_loader, desc='Entrenamiento', leave=False)\n",
    "    modelo.train()\n",
    "    total_loss, correct, total = 0, 0, 0\n",
    "    for X, y in train_iter:\n",
    "        X, y = X.to(device), y.to(device)\n",
    "        optimizer.zero_grad()\n",
    "        logits = modelo(X)\n",
    "        loss = loss_fn(logits, y)\n",
    "        loss.backward()\n",
    "        optimizer.step()\n",
    "        total_loss += loss.item() * X.size(0)\n",
    "        preds = logits.argmax(1)\n",
    "        correct += (preds == y).sum().item()\n",
    "        total += X.size(0)\n",
    "    train_loss = total_loss / total\n",
    "    train_acc = correct / total\n",
    "    train_losses.append(train_loss)\n",
    "    train_accuracies.append(train_acc)\n",
    "\n",
    "    # Validación\n",
    "    val_loss, val_acc = val_loop(val_loader, modelo, loss_fn)\n",
    "    val_losses.append(val_loss)\n",
    "    val_accuracies.append(val_acc)\n",
    "    print(f\"  Entrenamiento -> Pérdida: {train_loss:.4f}, Exactitud: {train_acc*100:.2f}%\")\n",
    "    print(f\"  Validación    -> Pérdida: {val_loss:.4f}, Exactitud: {val_acc*100:.2f}%\")\n",
    "\n",
    "    # Scheduler step\n",
    "    scheduler.step(val_loss)\n",
    "\n",
    "    # Early stopping y guardado del mejor modelo\n",
    "    if val_loss < best_val_loss:\n",
    "        best_val_loss = val_loss\n",
    "        patience_counter = 0\n",
    "        torch.save(modelo.state_dict(), best_model_path)\n",
    "        print('  Mejor modelo guardado.')\n",
    "    else:\n",
    "        patience_counter += 1\n",
    "        print(f'  Sin mejora en validación. Paciencia: {patience_counter}/{patience}')\n",
    "        if patience_counter >= patience:\n",
    "            print('  Early stopping: entrenamiento detenido.')\n",
    "            break"
   ]
  },
  {
   "cell_type": "markdown",
   "id": "d35156f2",
   "metadata": {},
   "source": [
    "Realizar predicciones con el modelo entrenado y visualizar"
   ]
  },
  {
   "cell_type": "code",
   "execution_count": 34,
   "id": "77505461",
   "metadata": {},
   "outputs": [
    {
     "data": {
      "image/png": "[encoded data removed]",
      "text/plain": [
       "<Figure size 640x480 with 1 Axes>"
      ]
     },
     "metadata": {},
     "output_type": "display_data"
    },
    {
     "data": {
      "image/png": "[encoded data removed]",
      "text/plain": [
       "<Figure size 640x480 with 1 Axes>"
      ]
     },
     "metadata": {},
     "output_type": "display_data"
    },
    {
     "data": {
      "image/png": "[encoded data removed]",
      "text/plain": [
       "<Figure size 640x480 with 1 Axes>"
      ]
     },
     "metadata": {},
     "output_type": "display_data"
    },
    {
     "data": {
      "image/png": "[encoded data removed]",
      "text/plain": [
       "<Figure size 640x480 with 1 Axes>"
      ]
     },
     "metadata": {},
     "output_type": "display_data"
    }
   ],
   "source": [
    "# Función para mostrar imágenes y predicciones\n",
    "import matplotlib.pyplot as plt\n",
    "\n",
    "def mostrar_predicciones(indices, dataset, modelo, device):\n",
    "    modelo.eval()\n",
    "    for idx in indices:\n",
    "        img, lbl = dataset[idx]\n",
    "        img_gpu = img.unsqueeze(0).to(device)\n",
    "        with torch.no_grad():\n",
    "            logits = modelo(img_gpu)\n",
    "            pred = logits.argmax(1).item()\n",
    "        plt.imshow(img.permute(1, 2, 0).cpu() * 0.5 + 0.5)\n",
    "        plt.title(f\"Predicción: {pred} (Etiqueta real: {lbl})\")\n",
    "        plt.axis(\"off\")\n",
    "        plt.show()\n",
    "\n",
    "# Ejemplo de uso:\n",
    "mostrar_predicciones([100, 80, 2000, 241], test_dataset, modelo, device)"
   ]
  },
  {
   "cell_type": "code",
   "execution_count": 35,
   "id": "7e56858a",
   "metadata": {},
   "outputs": [
    {
     "data": {
      "image/png": "[encoded data removed]",
      "text/plain": [
       "<Figure size 1200x500 with 2 Axes>"
      ]
     },
     "metadata": {},
     "output_type": "display_data"
    }
   ],
   "source": [
    "# 10. Graficar la pérdida y exactitud por época y guardar figuras\n",
    "plt.figure(figsize=(12,5))\n",
    "plt.subplot(1,2,1)\n",
    "plt.plot(train_losses, label='Entrenamiento')\n",
    "plt.plot(val_losses, label='Validación')\n",
    "plt.title('Pérdida por época')\n",
    "plt.xlabel('Época')\n",
    "plt.ylabel('Pérdida')\n",
    "plt.legend()\n",
    "plt.savefig('perdida_por_epoca.png')\n",
    "\n",
    "plt.subplot(1,2,2)\n",
    "plt.plot(train_accuracies, label='Entrenamiento')\n",
    "plt.plot(val_accuracies, label='Validación')\n",
    "plt.title('Exactitud por época')\n",
    "plt.xlabel('Época')\n",
    "plt.ylabel('Exactitud')\n",
    "plt.legend()\n",
    "plt.savefig('exactitud_por_epoca.png')\n",
    "plt.show()"
   ]
  },
  {
   "cell_type": "code",
   "execution_count": 36,
   "id": "4cf89646",
   "metadata": {},
   "outputs": [
    {
     "data": {
      "text/markdown": [
       "**Balanced Accuracy:** 0.5967"
      ],
      "text/plain": [
       "<IPython.core.display.Markdown object>"
      ]
     },
     "metadata": {},
     "output_type": "display_data"
    },
    {
     "data": {
      "text/markdown": [
       "**Classification Report:**"
      ],
      "text/plain": [
       "<IPython.core.display.Markdown object>"
      ]
     },
     "metadata": {},
     "output_type": "display_data"
    },
    {
     "data": {
      "text/markdown": [
       "```              precision    recall  f1-score   support\n",
       "\n",
       "           0     0.7500    0.9000    0.8182       100\n",
       "           1     0.6096    0.8900    0.7236       100\n",
       "           2     0.3816    0.5800    0.4603       100\n",
       "           3     0.4211    0.4000    0.4103       100\n",
       "           4     0.3173    0.3300    0.3235       100\n",
       "           5     0.4697    0.6200    0.5345       100\n",
       "           6     0.7216    0.7000    0.7107       100\n",
       "           7     0.7037    0.5700    0.6298       100\n",
       "           8     0.8333    0.7000    0.7609       100\n",
       "           9     0.8065    0.7500    0.7772       100\n",
       "          10     0.5410    0.3300    0.4099       100\n",
       "          11     0.4300    0.4300    0.4300       100\n",
       "          12     0.7073    0.5800    0.6374       100\n",
       "          13     0.5763    0.3400    0.4277       100\n",
       "          14     0.7955    0.3500    0.4861       100\n",
       "          15     0.4946    0.4600    0.4767       100\n",
       "          16     0.4867    0.7300    0.5840       100\n",
       "          17     0.8298    0.7800    0.8041       100\n",
       "          18     0.4885    0.6400    0.5541       100\n",
       "          19     0.7391    0.3400    0.4658       100\n",
       "          20     0.6860    0.8300    0.7511       100\n",
       "          21     0.6891    0.8200    0.7489       100\n",
       "          22     0.6170    0.5800    0.5979       100\n",
       "          23     0.6882    0.6400    0.6632       100\n",
       "          24     0.7300    0.7300    0.7300       100\n",
       "          25     0.4756    0.3900    0.4286       100\n",
       "          26     0.5294    0.6300    0.5753       100\n",
       "          27     0.3980    0.3900    0.3939       100\n",
       "          28     0.8021    0.7700    0.7857       100\n",
       "          29     0.6506    0.5400    0.5902       100\n",
       "          30     0.4408    0.6700    0.5317       100\n",
       "          31     0.5229    0.5700    0.5455       100\n",
       "          32     0.7206    0.4900    0.5833       100\n",
       "          33     0.3710    0.6900    0.4825       100\n",
       "          34     0.4305    0.6500    0.5179       100\n",
       "          35     0.3418    0.2700    0.3017       100\n",
       "          36     0.6731    0.7000    0.6863       100\n",
       "          37     0.5338    0.7900    0.6371       100\n",
       "          38     0.3291    0.5200    0.4031       100\n",
       "          39     0.8488    0.7300    0.7849       100\n",
       "          40     0.4609    0.5900    0.5175       100\n",
       "          41     0.8000    0.8000    0.8000       100\n",
       "          42     0.6176    0.6300    0.6238       100\n",
       "          43     0.5254    0.6200    0.5688       100\n",
       "          44     0.4035    0.2300    0.2930       100\n",
       "          45     0.4783    0.4400    0.4583       100\n",
       "          46     0.4767    0.4100    0.4409       100\n",
       "          47     0.5900    0.5900    0.5900       100\n",
       "          48     0.6597    0.9500    0.7787       100\n",
       "          49     0.7959    0.7800    0.7879       100\n",
       "          50     0.4000    0.2000    0.2667       100\n",
       "          51     0.6437    0.5600    0.5989       100\n",
       "          52     0.5496    0.7200    0.6234       100\n",
       "          53     0.6429    0.9000    0.7500       100\n",
       "          54     0.6397    0.8700    0.7373       100\n",
       "          55     0.3704    0.1000    0.1575       100\n",
       "          56     0.9024    0.7400    0.8132       100\n",
       "          57     0.7763    0.5900    0.6705       100\n",
       "          58     0.7238    0.7600    0.7415       100\n",
       "          59     0.6447    0.4900    0.5568       100\n",
       "          60     0.8144    0.7900    0.8020       100\n",
       "          61     0.5200    0.6500    0.5778       100\n",
       "          62     0.8125    0.5200    0.6341       100\n",
       "          63     0.6667    0.5200    0.5843       100\n",
       "          64     0.4455    0.4500    0.4478       100\n",
       "          65     0.6207    0.1800    0.2791       100\n",
       "          66     0.7172    0.7100    0.7136       100\n",
       "          67     0.4884    0.4200    0.4516       100\n",
       "          68     0.9032    0.8400    0.8705       100\n",
       "          69     0.7778    0.7700    0.7739       100\n",
       "          70     0.7241    0.6300    0.6738       100\n",
       "          71     0.5578    0.8200    0.6640       100\n",
       "          72     0.5000    0.1500    0.2308       100\n",
       "          73     0.4444    0.3200    0.3721       100\n",
       "          74     0.3909    0.4300    0.4095       100\n",
       "          75     0.9524    0.8000    0.8696       100\n",
       "          76     0.8627    0.8800    0.8713       100\n",
       "          77     0.4625    0.7400    0.5692       100\n",
       "          78     0.5000    0.5300    0.5146       100\n",
       "          79     0.5352    0.7600    0.6281       100\n",
       "          80     0.3191    0.3000    0.3093       100\n",
       "          81     0.4706    0.8000    0.5926       100\n",
       "          82     0.9140    0.8500    0.8808       100\n",
       "          83     0.6600    0.3300    0.4400       100\n",
       "          84     0.6250    0.5000    0.5556       100\n",
       "          85     0.7476    0.7700    0.7586       100\n",
       "          86     0.7714    0.5400    0.6353       100\n",
       "          87     0.7922    0.6100    0.6893       100\n",
       "          88     0.5423    0.7700    0.6364       100\n",
       "          89     0.5906    0.7500    0.6608       100\n",
       "          90     0.7237    0.5500    0.6250       100\n",
       "          91     0.6757    0.7500    0.7109       100\n",
       "          92     0.5000    0.6000    0.5455       100\n",
       "          93     0.4598    0.4000    0.4278       100\n",
       "          94     0.7890    0.8600    0.8230       100\n",
       "          95     0.5248    0.5300    0.5274       100\n",
       "          96     0.5699    0.5300    0.5492       100\n",
       "          97     0.7093    0.6100    0.6559       100\n",
       "          98     0.5909    0.2600    0.3611       100\n",
       "          99     0.5946    0.6600    0.6256       100\n",
       "\n",
       "    accuracy                         0.5967     10000\n",
       "   macro avg     0.6095    0.5967    0.5889     10000\n",
       "weighted avg     0.6095    0.5967    0.5889     10000\n",
       "```"
      ],
      "text/plain": [
       "<IPython.core.display.Markdown object>"
      ]
     },
     "metadata": {},
     "output_type": "display_data"
    }
   ],
   "source": [
    "# 11. Calcular métricas adicionales de clasificación en el set de test\n",
    "from sklearn.metrics import classification_report, balanced_accuracy_score\n",
    "\n",
    "modelo.eval()\n",
    "all_preds = []\n",
    "all_labels = []\n",
    "with torch.no_grad():\n",
    "    for X, y in test_loader:\n",
    "        X = X.to(device)\n",
    "        logits = modelo(X)\n",
    "        preds = logits.argmax(1).cpu().numpy()\n",
    "        all_preds.extend(preds)\n",
    "        all_labels.extend(y.numpy())\n",
    "\n",
    "report = classification_report(all_labels, all_preds, digits=4, output_dict=False)\n",
    "bal_acc = balanced_accuracy_score(all_labels, all_preds)\n",
    "\n",
    "from IPython.display import Markdown, display\n",
    "display(Markdown(f'**Balanced Accuracy:** {bal_acc:.4f}'))\n",
    "display(Markdown('**Classification Report:**'))\n",
    "display(Markdown(f'```{report}```'))"
   ]
  },
  {
   "cell_type": "markdown",
   "id": "6cd20ae4",
   "metadata": {},
   "source": [
    "# Ajuste de hiperparámetros para hardware sin GPU\n"
   ]
  },
  {
   "cell_type": "code",
   "execution_count": 37,
   "id": "608e458d",
   "metadata": {},
   "outputs": [],
   "source": [
    "# Ajustar batch size, número de épocas y optimizador Adam para CPU\n",
    "BATCH_SIZE = 16  # Recomendado para CPU y 16GB RAM\n",
    "EPOCHS = 50      # Más épocas para compensar batch pequeño\n",
    "\n",
    "# Optimización de Adam con weight_decay para regularización\n",
    "optimizer = torch.optim.Adam(modelo.parameters(), lr=0.001, weight_decay=1e-4)\n",
    "\n",
    "# Actualizar DataLoaders\n",
    "train_loader = DataLoader(train_dataset_split, batch_size=BATCH_SIZE, shuffle=True)\n",
    "val_loader = DataLoader(val_dataset_split, batch_size=BATCH_SIZE, shuffle=False)\n",
    "test_loader = DataLoader(test_dataset, batch_size=BATCH_SIZE, shuffle=False)"
   ]
  }
 ],
 "metadata": {
  "kernelspec": {
   "display_name": "Python 3",
   "language": "python",
   "name": "python3"
  },
  "language_info": {
   "codemirror_mode": {
    "name": "ipython",
    "version": 3
   },
   "file_extension": ".py",
   "mimetype": "text/x-python",
   "name": "python",
   "nbconvert_exporter": "python",
   "pygments_lexer": "ipython3",
   "version": "3.11.9"
  }
 },
 "nbformat": 4,
 "nbformat_minor": 5
}
